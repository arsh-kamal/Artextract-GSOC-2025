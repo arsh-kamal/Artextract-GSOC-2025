{
 "cells": [
  {
   "cell_type": "code",
   "execution_count": 1,
   "id": "4e2a777b-ad45-4d0c-b631-8d41fca74adb",
   "metadata": {},
   "outputs": [
    {
     "name": "stdout",
     "output_type": "stream",
     "text": [
      "Sample portraits from metadata (for reference):\n",
      "                              title                  attributioninverted\n",
      "4                 Portrait of a Man                  Andrea del Castagno\n",
      "5        Profile Portrait of a Lady          Franco-Flemish 15th Century\n",
      "8           Portrait of a Young Man  Antonello da Messina, Attributed to\n",
      "10  Portrait of a Man with an Arrow                        Memling, Hans\n",
      "11          Portrait of a Gentleman                         Mor, Antonis\n",
      "Processed 10 images with filenames:\n",
      "['the_apostle_paul_1942.9.59.jpg', 'family_portrait_1946.7.4.jpg', 'amsterdam_harbor_scene_2011.3.1.jpg', 'agrippina_and_germanicus_1963.8.1.jpg', 'the_alba_madonna_1937.1.24.jpg']\n",
      "Created 45 pairs in nga_similarity_pairs.csv\n",
      "                                              image1  \\\n",
      "0  /Users/Dell/Documents/TASK1/WikiArt/nga_portra...   \n",
      "1  /Users/Dell/Documents/TASK1/WikiArt/nga_portra...   \n",
      "2  /Users/Dell/Documents/TASK1/WikiArt/nga_portra...   \n",
      "3  /Users/Dell/Documents/TASK1/WikiArt/nga_portra...   \n",
      "4  /Users/Dell/Documents/TASK1/WikiArt/nga_portra...   \n",
      "\n",
      "                                              image2  label  \n",
      "0  /Users/Dell/Documents/TASK1/WikiArt/nga_portra...      0  \n",
      "1  /Users/Dell/Documents/TASK1/WikiArt/nga_portra...      1  \n",
      "2  /Users/Dell/Documents/TASK1/WikiArt/nga_portra...      0  \n",
      "3  /Users/Dell/Documents/TASK1/WikiArt/nga_portra...      1  \n",
      "4  /Users/Dell/Documents/TASK1/WikiArt/nga_portra...      0  \n"
     ]
    }
   ],
   "source": [
    "import pandas as pd\n",
    "import os\n",
    "\n",
    "# Base directory\n",
    "base_dir = '/Users/Dell/Documents/TASK1/WikiArt'\n",
    "output_dir = os.path.join(base_dir, 'nga_portraits')\n",
    "os.makedirs(output_dir, exist_ok=True)\n",
    "\n",
    "# Load NGA metadata (for reference only, not for images)\n",
    "metadata = pd.read_csv('https://raw.githubusercontent.com/NationalGalleryOfArt/opendata/main/data/objects.csv', low_memory=False)\n",
    "portraits = metadata[(metadata['classification'] == 'Painting') & \n",
    "                     (metadata['title'].str.lower().str.contains('portrait', na=False))].head(100)\n",
    "\n",
    "print(\"Sample portraits from metadata (for reference):\")\n",
    "print(portraits[['title', 'attributioninverted']].head())\n",
    "\n",
    "# Use existing images in nga_portraits/ (no renaming needed)\n",
    "image_files = [f for f in os.listdir(output_dir) if f.endswith('.jpg')]\n",
    "if len(image_files) < 2:\n",
    "    print(\"Insufficient images. Ensure 11+ portrait images are in WikiArt/nga_portraits/.\")\n",
    "    exit()\n",
    "\n",
    "image_paths = [os.path.join(output_dir, f) for f in image_files]\n",
    "# Assign simple labels (e.g., alternate between two artists for demo purposes)\n",
    "labels = [f\"artist_{i % 2}\" for i in range(len(image_files))]  # e.g., artist_0, artist_1, artist_0, ...\n",
    "\n",
    "print(f\"Processed {len(image_paths)} images with filenames:\")\n",
    "print(image_files[:5])  # Show first 5 filenames\n",
    "\n",
    "# Create pairs\n",
    "pairs = []\n",
    "pair_labels = []\n",
    "for i in range(len(image_paths)):\n",
    "    for j in range(i + 1, len(image_paths)):\n",
    "        pairs.append([image_paths[i], image_paths[j]])\n",
    "        pair_labels.append(1 if labels[i] == labels[j] else 0)\n",
    "\n",
    "# Save to CSV\n",
    "if pairs:\n",
    "    df = pd.DataFrame(pairs, columns=['image1', 'image2'])\n",
    "    df['label'] = pair_labels\n",
    "    df.to_csv(os.path.join(base_dir, 'nga_similarity_pairs.csv'), index=False)\n",
    "    print(f\"Created {len(df)} pairs in nga_similarity_pairs.csv\")\n",
    "    print(df.head())\n",
    "else:\n",
    "    print(\"No pairs created. Check image count.\")"
   ]
  },
  {
   "cell_type": "code",
   "execution_count": null,
   "id": "24b82b89-76f7-4a93-a34d-310e14d85a67",
   "metadata": {},
   "outputs": [],
   "source": []
  }
 ],
 "metadata": {
  "kernelspec": {
   "display_name": "Python 3 (ipykernel)",
   "language": "python",
   "name": "python3"
  },
  "language_info": {
   "codemirror_mode": {
    "name": "ipython",
    "version": 3
   },
   "file_extension": ".py",
   "mimetype": "text/x-python",
   "name": "python",
   "nbconvert_exporter": "python",
   "pygments_lexer": "ipython3",
   "version": "3.9.6"
  }
 },
 "nbformat": 4,
 "nbformat_minor": 5
}
